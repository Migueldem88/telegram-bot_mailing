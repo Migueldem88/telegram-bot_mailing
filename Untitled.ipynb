{
 "cells": [
  {
   "cell_type": "code",
   "execution_count": 1,
   "id": "1deb3ba8-851b-4f5d-83ac-272de64606ea",
   "metadata": {},
   "outputs": [
    {
     "data": {
      "text/plain": [
       "97"
      ]
     },
     "execution_count": 1,
     "metadata": {},
     "output_type": "execute_result"
    }
   ],
   "source": [
    "ord('a')"
   ]
  },
  {
   "cell_type": "code",
   "execution_count": 4,
   "id": "02da535a-29ce-4446-950a-2b3875d2b804",
   "metadata": {},
   "outputs": [],
   "source": [
    "import random"
   ]
  },
  {
   "cell_type": "code",
   "execution_count": 2,
   "id": "97050d4e-c132-46ff-846f-2e41f79e6c77",
   "metadata": {},
   "outputs": [
    {
     "data": {
      "text/plain": [
       "122"
      ]
     },
     "execution_count": 2,
     "metadata": {},
     "output_type": "execute_result"
    }
   ],
   "source": [
    "ord('z')"
   ]
  },
  {
   "cell_type": "code",
   "execution_count": 31,
   "id": "2094a46b-47f8-40eb-9a7d-e471ada5f170",
   "metadata": {},
   "outputs": [],
   "source": [
    "k=[]\n"
   ]
  },
  {
   "cell_type": "code",
   "execution_count": 33,
   "id": "e3dc6a63-907e-4d05-bc8f-dc496129b498",
   "metadata": {},
   "outputs": [
    {
     "name": "stdout",
     "output_type": "stream",
     "text": [
      "[98, 117, 114, 99, 104]\n"
     ]
    }
   ],
   "source": [
    "randomlist = random.sample(range(97, 122), 5)\n",
    "print(randomlist)"
   ]
  },
  {
   "cell_type": "code",
   "execution_count": 34,
   "id": "91361048-ec63-4c70-9c97-dd0a4b5a996d",
   "metadata": {},
   "outputs": [
    {
     "name": "stdout",
     "output_type": "stream",
     "text": [
      "['b', 'u', 'r', 'c', 'h']\n",
      "burch\n"
     ]
    }
   ],
   "source": [
    "for i in randomlist:\n",
    "    k.append(chr(i))\n",
    "print(k)\n",
    "z=''.join(k)\n",
    "print(z)"
   ]
  },
  {
   "cell_type": "code",
   "execution_count": null,
   "id": "4d1ff3ae-1510-44d1-84d8-82850d2340f2",
   "metadata": {},
   "outputs": [],
   "source": [
    "a = "
   ]
  },
  {
   "cell_type": "code",
   "execution_count": null,
   "id": "ed135b8f-42e9-439e-a26c-90427dcaa3b6",
   "metadata": {},
   "outputs": [],
   "source": [
    "import random\n",
    "names=[\"We\",\"I\",\"They\",\"He\",\"She\",\"Jack\",\"Jim\"]\n",
    "verbs=[\"was\",\"is\",\"are\",\"were\"]\n",
    "nouns=[\"playing a game\",\"watching television\",\"talking\",\"dancing\",\"speaking\"]\n",
    "while True:\n",
    "    a=(random.choice(names))\n",
    "    b=(random.choice(verbs))\n",
    "    c=(random.choice(nouns))\n",
    "    print(a+\" \",b+\" \",c)\n",
    "    break"
   ]
  },
  {
   "cell_type": "code",
   "execution_count": 50,
   "id": "273b5d8f-05ba-4923-969b-6e53bc708c7f",
   "metadata": {},
   "outputs": [
    {
     "name": "stdout",
     "output_type": "stream",
     "text": [
      "uqehd\n"
     ]
    }
   ],
   "source": [
    "random_numbers = ''.join([chr(random.randint(97, 122)) for x in range(1,6)])\n",
    "print(random_numbers)"
   ]
  },
  {
   "cell_type": "code",
   "execution_count": null,
   "id": "705ac75a-9350-4c9e-a1b5-4c3c4f571926",
   "metadata": {},
   "outputs": [],
   "source": [
    "pri"
   ]
  }
 ],
 "metadata": {
  "kernelspec": {
   "display_name": "Python 3 (ipykernel)",
   "language": "python",
   "name": "python3"
  },
  "language_info": {
   "codemirror_mode": {
    "name": "ipython",
    "version": 3
   },
   "file_extension": ".py",
   "mimetype": "text/x-python",
   "name": "python",
   "nbconvert_exporter": "python",
   "pygments_lexer": "ipython3",
   "version": "3.10.6"
  }
 },
 "nbformat": 4,
 "nbformat_minor": 5
}
